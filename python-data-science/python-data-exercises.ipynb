{
 "cells": [
  {
   "cell_type": "code",
   "execution_count": 1,
   "id": "8b6d818e",
   "metadata": {},
   "outputs": [],
   "source": [
    "# Always run this cell first it will import the 3 libs that you need for the exercises\n",
    "import numpy as np\n",
    "import matplotlib.pyplot as plt\n",
    "import pandas as pd"
   ]
  },
  {
   "cell_type": "markdown",
   "id": "16c92781",
   "metadata": {},
   "source": [
    "# **Numpy**"
   ]
  },
  {
   "cell_type": "markdown",
   "id": "59cdc77c",
   "metadata": {},
   "source": [
    "Exercises 1 through 8"
   ]
  },
  {
   "cell_type": "markdown",
   "id": "72ae3470",
   "metadata": {},
   "source": [
    "## Data Types"
   ]
  },
  {
   "cell_type": "markdown",
   "id": "9bc6db00",
   "metadata": {},
   "source": [
    "### Exercise 1\n",
    "\n",
    "- Create a 5x5 [identity matrix](https://en.wikipedia.org/wiki/Identity_matrix).\n",
    "- Convert it to `int64` dtype.\n",
    "- Confirm its properties such as dimensionality, shape and data type."
   ]
  },
  {
   "cell_type": "code",
   "execution_count": null,
   "id": "655b76ab",
   "metadata": {},
   "outputs": [],
   "source": []
  },
  {
   "cell_type": "markdown",
   "id": "dcdcd9bb",
   "metadata": {},
   "source": [
    "## Arithmetic Operators"
   ]
  },
  {
   "cell_type": "markdown",
   "id": "cb47563d",
   "metadata": {},
   "source": [
    "### Exercise 2\n",
    "Generate a vector of size 10 with values ranging from 0 to 0.9, both included."
   ]
  },
  {
   "cell_type": "code",
   "execution_count": null,
   "id": "0f44a2b5",
   "metadata": {},
   "outputs": [],
   "source": []
  },
  {
   "cell_type": "markdown",
   "id": "426ffa76",
   "metadata": {},
   "source": [
    "### Exercise 3\n",
    "Change the value of `c` so that the following code runs properly.\n",
    "\n",
    "_Hint: What happens when you obtain `a*b`? What are the dimensions of this object? Use .dim, and comment out some lines, to play with this code and figure this out._"
   ]
  },
  {
   "cell_type": "code",
   "execution_count": null,
   "id": "c4b9e838",
   "metadata": {},
   "outputs": [],
   "source": [
    "a = np.asarray([[3], [7], [878], [26]])\n",
    "b = np.asarray([1, 10, 11, 101, 110])\n",
    "c = np.asarray([0, 1, 2, 3, 4, 5]) # Change this variable\n",
    "\n",
    "(a*b) + c"
   ]
  },
  {
   "cell_type": "markdown",
   "id": "b2043c77",
   "metadata": {},
   "source": [
    "## Indexing and Slicing"
   ]
  },
  {
   "cell_type": "markdown",
   "id": "ceaed20b",
   "metadata": {},
   "source": [
    "### Exercise 4\n",
    "Create a 4 by 4 2D array with 1s on the border and 0s inside"
   ]
  },
  {
   "cell_type": "code",
   "execution_count": null,
   "id": "55b761f8",
   "metadata": {},
   "outputs": [],
   "source": []
  },
  {
   "cell_type": "markdown",
   "id": "573d523d",
   "metadata": {},
   "source": [
    "## Whole array Functions"
   ]
  },
  {
   "cell_type": "markdown",
   "id": "1f7ca6db",
   "metadata": {},
   "source": [
    "### Exercise 5\n",
    "Create a random vector of size 30 and find its mean value"
   ]
  },
  {
   "cell_type": "code",
   "execution_count": null,
   "id": "36b10186",
   "metadata": {},
   "outputs": [],
   "source": []
  },
  {
   "cell_type": "markdown",
   "id": "f6534218",
   "metadata": {},
   "source": [
    "### Exercise 6\n",
    "\n",
    "Subtract the mean of each column of a randomly generated matrix:"
   ]
  },
  {
   "cell_type": "code",
   "execution_count": null,
   "id": "40e5683a",
   "metadata": {},
   "outputs": [],
   "source": []
  },
  {
   "cell_type": "markdown",
   "id": "da894dff",
   "metadata": {},
   "source": [
    "## Linear Algebra"
   ]
  },
  {
   "cell_type": "markdown",
   "id": "1e13f4f3",
   "metadata": {},
   "source": [
    "### Exercise 7\n",
    "Obtain the diagonal of a dot product of 2 random matrices"
   ]
  },
  {
   "cell_type": "code",
   "execution_count": null,
   "id": "f89f329d",
   "metadata": {},
   "outputs": [],
   "source": []
  },
  {
   "cell_type": "markdown",
   "id": "58da9c91",
   "metadata": {},
   "source": [
    "## File I/O\n"
   ]
  },
  {
   "cell_type": "markdown",
   "id": "17629ca8",
   "metadata": {},
   "source": [
    "### Exercise 8\n",
    "Read in the file `daily_gas_price.csv`, which lists the daily price of natural gas since 1997. Each row contains a date and a price, separated by a comma. Find the minimum, maximum, and mean gas price over the dataset.\n",
    "\n",
    "_Hint: you will need to use the delimiter option in `np.genfromtxt` to specify that data is separated by commas. We will be discarding the date column..._"
   ]
  },
  {
   "cell_type": "code",
   "execution_count": null,
   "id": "11cec656",
   "metadata": {},
   "outputs": [],
   "source": []
  },
  {
   "cell_type": "markdown",
   "id": "078920f0",
   "metadata": {},
   "source": [
    "# ____________________________________________"
   ]
  },
  {
   "cell_type": "markdown",
   "id": "cecf1914",
   "metadata": {},
   "source": [
    "# **Plotting**"
   ]
  },
  {
   "cell_type": "markdown",
   "id": "f72f156b",
   "metadata": {},
   "source": [
    "Exercises 1 through 3"
   ]
  },
  {
   "cell_type": "markdown",
   "id": "bd9607fe",
   "metadata": {},
   "source": [
    "## My first plot"
   ]
  },
  {
   "cell_type": "markdown",
   "id": "b3650bac",
   "metadata": {},
   "source": [
    "### Exercise 1\n",
    "\n",
    "Use Numpy to generate 2 different sequences of random numbers of the same length. Then plot these against one another as a scatter diagram."
   ]
  },
  {
   "cell_type": "code",
   "execution_count": null,
   "id": "4c522815",
   "metadata": {},
   "outputs": [],
   "source": []
  },
  {
   "cell_type": "markdown",
   "id": "4198498f",
   "metadata": {},
   "source": [
    "## Annotation and Customisation"
   ]
  },
  {
   "cell_type": "markdown",
   "id": "e5491e63",
   "metadata": {},
   "source": [
    "### Exercise 2\n",
    "\n",
    "The following code reads in quarterly data on marriages and civil partnerships in Scotland between 2008 and 2018 (obtained from [NRS](https://www.nrscotland.gov.uk/statistics-and-data))."
   ]
  },
  {
   "cell_type": "code",
   "execution_count": null,
   "id": "a8839081",
   "metadata": {},
   "outputs": [],
   "source": [
    "# Read data, skipping header\n",
    "raw = np.genfromtxt(\"data/marriage_data.csv\", delimiter=\",\", skip_header=1)\n",
    "\n",
    "# Separate data (columns known in advance)\n",
    "opp_sex_marriage = raw[:, 0] # Opposite Sex Mrriages\n",
    "same_sex_marriage = raw[:, 1] # Same Sex Marriages\n",
    "male_civil = raw[:, 2] # Male Civil Partnerships\n",
    "female_civil = raw[:, 3] # Female Civil Partnerships"
   ]
  },
  {
   "cell_type": "markdown",
   "id": "14b403ea",
   "metadata": {},
   "source": [
    "Plot a line chart showing the number of male civil partnerships, female civil partnerships, and same sex marriages over time. Use multiple calls to `plt.plot` to overlay these on the same figure. Give your plot a legend, a title, and x- and y-axis labels.\n",
    "\n",
    "_Extra Challenge:_ Try changing the x-axis ticks to mark the start of each year (remember that this is quarterly data, so you'll want xticks spaced at intervals of 4 - you may need `np.arange` more than once...)"
   ]
  },
  {
   "cell_type": "code",
   "execution_count": null,
   "id": "f03117e0",
   "metadata": {},
   "outputs": [],
   "source": []
  },
  {
   "cell_type": "markdown",
   "id": "f672c920",
   "metadata": {},
   "source": [
    "## Figure Objects"
   ]
  },
  {
   "cell_type": "markdown",
   "id": "cdcfcd81",
   "metadata": {},
   "source": [
    "### Exercise 3\n",
    "Take a look at the file `my_graph.jpeg` produced by running this code block. Something is wrong: change the code block so that the output file is the same as the displayed graph."
   ]
  },
  {
   "cell_type": "code",
   "execution_count": null,
   "id": "c23e7b3c",
   "metadata": {},
   "outputs": [],
   "source": [
    "x = np.arange(0.1, 10, 0.1)\n",
    "plt.plot(x, np.log(x))\n",
    "plt.show()\n",
    "plt.savefig(\"my_graph.jpeg\")"
   ]
  },
  {
   "cell_type": "markdown",
   "id": "e025add6",
   "metadata": {},
   "source": [
    "# ____________________________________________"
   ]
  },
  {
   "cell_type": "markdown",
   "id": "282924d0",
   "metadata": {},
   "source": [
    "# **Pandas**"
   ]
  },
  {
   "cell_type": "markdown",
   "id": "a8180165",
   "metadata": {},
   "source": [
    "Exercises 1 through 7"
   ]
  },
  {
   "cell_type": "markdown",
   "id": "149299d1",
   "metadata": {},
   "source": [
    "## Summarizing and computing descriptive stats \n"
   ]
  },
  {
   "cell_type": "markdown",
   "id": "5a80b3df",
   "metadata": {},
   "source": [
    "### Exercise 1\n",
    "A dataset of random numbers is created below. Obtain all rows starting from row 85 to 97.\n",
    "\n",
    "*Note: Remember that Python uses 0-based indexing*"
   ]
  },
  {
   "cell_type": "code",
   "execution_count": null,
   "id": "b34401f9",
   "metadata": {},
   "outputs": [],
   "source": [
    "df = pd.DataFrame(np.reshape(np.arange(10000), (100,100)))\n"
   ]
  },
  {
   "cell_type": "markdown",
   "id": "f0a764b0",
   "metadata": {},
   "source": [
    "### Exercise 2\n",
    "Create a (3,3) DataFrame and square all elements in it."
   ]
  },
  {
   "cell_type": "code",
   "execution_count": null,
   "id": "c88a6646",
   "metadata": {},
   "outputs": [],
   "source": []
  },
  {
   "cell_type": "markdown",
   "id": "83bc627c",
   "metadata": {},
   "source": [
    "### Exercise 3\n",
    "\n",
    "A random DataFrame is created below. Find the median value of each column."
   ]
  },
  {
   "cell_type": "code",
   "execution_count": null,
   "id": "b3ef341f",
   "metadata": {},
   "outputs": [],
   "source": [
    "df = pd.DataFrame(np.random.uniform(0, 10, (100, 100)))\n"
   ]
  },
  {
   "cell_type": "markdown",
   "id": "b6dd0d28",
   "metadata": {},
   "source": [
    "## Data Loading and Storing"
   ]
  },
  {
   "cell_type": "markdown",
   "id": "e6e9d463",
   "metadata": {},
   "source": [
    "### Exercise 4\n",
    "Load the file `data/homes.csv` and find the mean selling price of these houses."
   ]
  },
  {
   "cell_type": "code",
   "execution_count": null,
   "id": "af4b2e5d",
   "metadata": {},
   "outputs": [],
   "source": []
  },
  {
   "cell_type": "markdown",
   "id": "b342892e",
   "metadata": {},
   "source": [
    "## Data Cleaning - Handling Missing Data"
   ]
  },
  {
   "cell_type": "markdown",
   "id": "5c7041f1",
   "metadata": {},
   "source": [
    "### Exercise 5\n",
    "Remove the missing data below using the appropriate method"
   ]
  },
  {
   "cell_type": "code",
   "execution_count": null,
   "id": "65a69081",
   "metadata": {},
   "outputs": [],
   "source": [
    "data = pd.Series([1, None, 3, 4, None, 6])\n",
    "data"
   ]
  },
  {
   "cell_type": "markdown",
   "id": "87be9146",
   "metadata": {},
   "source": [
    "### Exercise 6\n",
    "That's fine if we want to remove missing data, what if we want to fill in missing data? Do you know of a way? Try to fill in all of the missing values from the data below with **0s**"
   ]
  },
  {
   "cell_type": "code",
   "execution_count": null,
   "id": "7d8e7963",
   "metadata": {},
   "outputs": [],
   "source": [
    "data = pd.DataFrame([[1., 6.5, 3.], [2., None, None],\n",
    "                    [None, None, None], [None, 1.5, 9.]])\n",
    "data"
   ]
  },
  {
   "cell_type": "markdown",
   "id": "0b36545b",
   "metadata": {},
   "source": [
    "## Data Transformation"
   ]
  },
  {
   "cell_type": "markdown",
   "id": "200dad92",
   "metadata": {},
   "source": [
    "### Exercise 7\n",
    "Let's load again our file with home prices and filter out homes based on our preference:\n",
    "1. Load up the file `data/homes.csv`\n",
    "2. The data contains some duplicates. Filter them out.\n",
    "3. Let's say that the most we can spend on a house is £150. Keep only houses that have a **sell**ing price less than £150 and remove the rest\n",
    "4. Select only houses that have 4 or more bedrooms\n",
    "5. Select only houses that have 3 or more baths\n",
    "\n",
    "You should end up with only 2 houses"
   ]
  },
  {
   "cell_type": "code",
   "execution_count": null,
   "id": "95d37e76",
   "metadata": {},
   "outputs": [],
   "source": []
  }
 ],
 "metadata": {
  "kernelspec": {
   "display_name": "aulas",
   "language": "python",
   "name": "python3"
  },
  "language_info": {
   "codemirror_mode": {
    "name": "ipython",
    "version": 3
   },
   "file_extension": ".py",
   "mimetype": "text/x-python",
   "name": "python",
   "nbconvert_exporter": "python",
   "pygments_lexer": "ipython3",
   "version": "3.10.16"
  }
 },
 "nbformat": 4,
 "nbformat_minor": 5
}
