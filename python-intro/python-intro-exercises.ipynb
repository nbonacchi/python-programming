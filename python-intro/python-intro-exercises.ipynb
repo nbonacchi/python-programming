{
 "cells": [
  {
   "cell_type": "markdown",
   "metadata": {},
   "source": [
    "# 1. Enumerate sentence\n",
    "Create a function that prints words within a sentence along with their index in front of the word itself.\n",
    "\n",
    "For example if we give the function the argument \"This is a sentence\" it should print\n",
    "\n",
    "```\n",
    "1 This\n",
    "2 is\n",
    "3 a\n",
    "4 sentence\n",
    "```"
   ]
  },
  {
   "cell_type": "code",
   "execution_count": null,
   "metadata": {},
   "outputs": [],
   "source": [
    "def enumWords(sentence):\n",
    "    #Complete this method.\n",
    "    "
   ]
  },
  {
   "cell_type": "markdown",
   "metadata": {},
   "source": [
    "# 2. Fibonacci\n",
    "Create a function `fibonacci()` which takes an integer `num` as an input and returns the first `num` fibonacci numbers.\n",
    "\n",
    "Eg.\n",
    "\n",
    "Input: `8`\n",
    "\n",
    "Output: `[1, 1, 2, 3, 5, 8, 13, 21]`\n",
    "\n",
    "*Hint: You might want to recall [fibonacci numbers](https://en.wikipedia.org/wiki/Fibonacci_number)*"
   ]
  },
  {
   "cell_type": "code",
   "execution_count": null,
   "metadata": {},
   "outputs": [],
   "source": [
    "def fibonacci(num):\n",
    "    #Complete this method.\n",
    "\n",
    "################ Checking code ########################\n",
    "# Please don't edit this code\n",
    "newList = fibonacci(10)\n",
    "if newList == [1, 1, 2, 3, 5, 8, 13, 21, 34, 55]:\n",
    "    print(\"Success!\")\n",
    "else:\n",
    "    print(\"Error! Your function returned\")\n",
    "    print(newList)\n",
    "    "
   ]
  },
  {
   "cell_type": "markdown",
   "metadata": {},
   "source": [
    "# 3. Guessing game 2\n",
    "Ask the user to input a number and then have the program guess it. After each guess, the user must input whether it was too high, too low or the correct number. In the end, the program must always guess the users number and it must print out the number of guesses it needed."
   ]
  },
  {
   "cell_type": "code",
   "execution_count": null,
   "metadata": {},
   "outputs": [],
   "source": []
  },
  {
   "cell_type": "markdown",
   "metadata": {},
   "source": [
    "# 4. Find word\n",
    "Create a function that searches for a word within a provided lists of words. Inputs to the function should be a list of words and a word to search for\n",
    "\n",
    "The function should return `True` if the word is contained within the list and `False` otherwise."
   ]
  },
  {
   "cell_type": "code",
   "execution_count": null,
   "metadata": {},
   "outputs": [],
   "source": [
    "fruits = [\"banana\", \"orange\", \"grapefruit\", \"lime\", \"lemon\"]\n",
    "\n",
    "def findWord(wordList, word):\n",
    "    #Complete this method.\n",
    "    \n",
    "################ Checking code ########################\n",
    "# Please don't edit this code\n",
    "\n",
    "if findWord(fruits, \"lime\"):\n",
    "    print(\"Success!\")\n",
    "else:\n",
    "    print(\"Try again!\")"
   ]
  },
  {
   "cell_type": "markdown",
   "metadata": {},
   "source": [
    "# 5. Powers of 2\n",
    "Use a while loop to find the largest power of 2 which is less than 30 million."
   ]
  },
  {
   "cell_type": "code",
   "execution_count": null,
   "metadata": {},
   "outputs": [],
   "source": []
  },
  {
   "cell_type": "markdown",
   "metadata": {},
   "source": [
    "# 6. Making a better school\n",
    "This exercise is on defining classes. This topic is covered in the optional notebook python-intro-3-extra-classes.\n",
    "\n",
    "Below is a copy of the `School`, `Student` and `Exam` classes, together with a copy of the code needed to populate an object of that class with students and exam results. Edit the `School` class to add in the following functions:\n",
    "\n",
    "* `.resits()` : this should return the list of exams that each student should resit if they get a \"F\" or \"U\" grade.\n",
    "* `.prizeStudent()` : this should return the name of the student who scored the highest average percent across all of the exams.\n",
    "* `.reviseCourse(threshold)` : this should return the name of the exam that gets the lowest average score across all students, if the average score is below `threshold`.\n",
    "\n",
    "Use these functions to find out which students need to resit which exams, which student should be awarded the annual school prize, and which courses should be revised as the average mark is less than 50%."
   ]
  },
  {
   "cell_type": "code",
   "execution_count": null,
   "metadata": {},
   "outputs": [],
   "source": [
    "class School:\n",
    "    def __init__(self):\n",
    "        self._students = {}\n",
    "        self._exams = []\n",
    "\n",
    "    def addStudent(self, name):\n",
    "        self._students[name] = Student(name)\n",
    "\n",
    "    def addExam(self, exam, max_score):\n",
    "        self._exams.append(exam)\n",
    "        \n",
    "        for key in self._students.keys():\n",
    "            self._students[key].addExam(exam, Exam(max_score))\n",
    "    \n",
    "    def addResult(self, name, exam, score):\n",
    "        self._students[name].addResult(exam, score)\n",
    "        \n",
    "    def grades(self):\n",
    "        grades = {}\n",
    "        for name in self._students.keys():\n",
    "            grades[name] = self._students[name].grades()\n",
    "        return grades\n",
    "    \n",
    "# NOTE: This is not a class method\n",
    "def addResults(school, exam, results):\n",
    "    for student in results.keys():\n",
    "        school.addResult(student, exam, results[student])\n",
    "\n",
    "\n",
    "class Student:\n",
    "    def __init__(self, name):\n",
    "        self._exams = {}\n",
    "        self._name = name\n",
    "    \n",
    "    def addExam(self, name, exam):\n",
    "        self._exams[name] = exam\n",
    "        \n",
    "    def addResult(self, name, score):\n",
    "        self._exams[name].setResult(score)\n",
    "    \n",
    "    def result(self, exam):\n",
    "        return self._exams[exam].percent()\n",
    "    \n",
    "    def grade(self, exam):\n",
    "        return self._exams[exam].grade()\n",
    "    \n",
    "    def grades(self):\n",
    "        g = {}\n",
    "        for exam in self._exams.keys():\n",
    "            g[exam] = self.grade(exam)\n",
    "        return g\n",
    "    \n",
    "\n",
    "class Exam:\n",
    "    def __init__(self, max_score=100):\n",
    "        self._max_score = max_score\n",
    "        self._actual_score = 0\n",
    "        \n",
    "    def percent(self):\n",
    "        return 100.0 * self._actual_score / self._max_score\n",
    "    \n",
    "    def setResult(self, score):\n",
    "        if score < 0:\n",
    "            self._actual_score = 0\n",
    "        elif score > self._max_score:\n",
    "            self._actual_score = self._max_score\n",
    "        else:\n",
    "            self._actual_score = score\n",
    "    \n",
    "    def grade(self):\n",
    "        if self._actual_score == 0:\n",
    "            return \"U\"\n",
    "        elif self.percent() > 70.0:\n",
    "            return \"A\"\n",
    "        elif self.percent() > 60.0:\n",
    "            return \"B\"\n",
    "        elif self.percent() > 50.0:\n",
    "            return \"C\"\n",
    "        else:\n",
    "            return \"F\"\n",
    "    \n",
    "# NOTE: This si not a class method\n",
    "def addResults(school, exam, results):\n",
    "    for student in results.keys():\n",
    "        school.addResult(student, exam, results[student])"
   ]
  },
  {
   "cell_type": "code",
   "execution_count": null,
   "metadata": {},
   "outputs": [],
   "source": [
    "school = School()\n",
    "\n",
    "school.grades()\n",
    "\n",
    "students = [\"Andrew\", \"James\", \"Laura\"]\n",
    "exams = { \"Maths\" : 20, \"Physics\" : 50, \"English\": 30}\n",
    "results = {\"Maths\" : {\"Andrew\" : 13, \"James\" : 17, \"Laura\" : 14},\n",
    "           \"Physics\" : {\"Andrew\" : 34, \"James\" : 44, \"Laura\" : 27},\n",
    "           \"English\" : {\"Andrew\" : 26, \"James\" : 14, \"Laura\" : 29}}\n",
    "\n",
    "for student in students:\n",
    "    school.addStudent(student)\n",
    "    \n",
    "for exam in exams.keys():\n",
    "    school.addExam(exam, exams[exam])\n",
    "    \n",
    "for result in results.keys():\n",
    "    addResults(school, result, results[result])\n",
    "    \n",
    "school.grades()"
   ]
  }
 ],
 "metadata": {
  "kernelspec": {
   "display_name": "Python 3 (ipykernel)",
   "language": "python",
   "name": "python3"
  },
  "language_info": {
   "codemirror_mode": {
    "name": "ipython",
    "version": 3
   },
   "file_extension": ".py",
   "mimetype": "text/x-python",
   "name": "python",
   "nbconvert_exporter": "python",
   "pygments_lexer": "ipython3",
   "version": "3.9.7"
  }
 },
 "nbformat": 4,
 "nbformat_minor": 4
}
