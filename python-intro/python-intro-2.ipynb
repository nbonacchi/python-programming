{
 "cells": [
  {
   "cell_type": "markdown",
   "metadata": {},
   "source": [
    "# More containers\n",
    "The **data structures** we studied previously are useful but what if we want to group multiple ones together?\n",
    "## Lists\n",
    "Probably the most commonly used data structure in Python. Lists simply group multiple variables together. Lists are declared with square brackets `[]` and items within them are separated by commas. We can declare an empty list `x = []` but that's not very useful."
   ]
  },
  {
   "cell_type": "code",
   "execution_count": null,
   "metadata": {},
   "outputs": [],
   "source": [
    "fruits = [\"apple\", \"orange\", \"tomato\", \"banana\"]  # a list of strings\n",
    "print(type(fruits))\n",
    "print(fruits)"
   ]
  },
  {
   "cell_type": "markdown",
   "metadata": {},
   "source": [
    "So why is that so useful? It allows us so to group similar data together and use it and apply a single operation to the whole group rather than applying the same operation multiple times for each item. More on that later.\n",
    "\n",
    "We can access each individual item within the list by **indexing** it."
   ]
  },
  {
   "cell_type": "code",
   "execution_count": null,
   "metadata": {},
   "outputs": [],
   "source": [
    "fruits[2]"
   ]
  },
  {
   "cell_type": "markdown",
   "metadata": {},
   "source": [
    "Huh? Why did that print `tomato` instead of `orange`? Is it supposed to print the 2nd item right? Not exactly. A list can be indexed starting from 0. Here is an image to illustrate this better:\n",
    "&nbsp;\n",
    "\n",
    "![List Indexing](https://i.imgur.com/2aHIjyI.png)\n",
    "\n",
    "&nbsp;\n",
    "&nbsp;\n",
    "\n",
    "What will happen if we want to access a index which is not currently assigned?"
   ]
  },
  {
   "cell_type": "code",
   "execution_count": null,
   "metadata": {},
   "outputs": [],
   "source": [
    "fruits[4]"
   ]
  },
  {
   "cell_type": "markdown",
   "metadata": {},
   "source": [
    "If there is no such item, then Python will simply throw out an error. So make sure you are always aware of the size of your list! One way to do this is using a **len()** which as implied returns the length(size) of any data structure:"
   ]
  },
  {
   "cell_type": "code",
   "execution_count": null,
   "metadata": {},
   "outputs": [],
   "source": [
    "len(fruits)"
   ]
  },
  {
   "cell_type": "markdown",
   "metadata": {},
   "source": [
    "Now for the serious question - is a tomato really a fruit? If you don't think so you can change it."
   ]
  },
  {
   "cell_type": "code",
   "execution_count": null,
   "metadata": {},
   "outputs": [],
   "source": [
    "fruits[2] = \"apricot\"\n",
    "print(fruits)"
   ]
  },
  {
   "cell_type": "markdown",
   "metadata": {},
   "source": [
    "This means that we can modify our list however we wish. For example to add a new fruit at the end of it and then remove our next not-a-fruit victim."
   ]
  },
  {
   "cell_type": "code",
   "execution_count": null,
   "metadata": {},
   "outputs": [],
   "source": [
    "fruits.append(\"lime\")    # add new item to list\n",
    "print(fruits)\n",
    "fruits.remove(\"orange\")  # remove orange from list\n",
    "print(fruits)"
   ]
  },
  {
   "cell_type": "markdown",
   "metadata": {},
   "source": [
    "That seems useful! Can we do the same with integers? Python actually offers various functions for generating numerical lists. The most useful out of which is:"
   ]
  },
  {
   "cell_type": "code",
   "execution_count": null,
   "metadata": {},
   "outputs": [],
   "source": [
    "nums = list(range(10))\n",
    "print(nums)"
   ]
  },
  {
   "cell_type": "code",
   "execution_count": null,
   "metadata": {},
   "outputs": [],
   "source": [
    "nums = list(range(0, 100, 5))\n",
    "print(nums)"
   ]
  },
  {
   "cell_type": "markdown",
   "metadata": {},
   "source": [
    "You can also get only a part of a list you have already created. This is called **slicing** and can be done in various different ways:"
   ]
  },
  {
   "cell_type": "code",
   "execution_count": null,
   "metadata": {},
   "outputs": [],
   "source": [
    "print(nums[0:3]) # Get items 0 through 3\n",
    "print(nums[4:]) # Get items 4 onwards\n",
    "print(nums[-1]) # Get the last item"
   ]
  },
  {
   "cell_type": "markdown",
   "metadata": {},
   "source": [
    "Lists can also be used with other functions out of which some are:"
   ]
  },
  {
   "cell_type": "code",
   "execution_count": null,
   "metadata": {},
   "outputs": [],
   "source": [
    "print(len(nums))   # number of items within the list\n",
    "print(max(nums))   # the maximum value within the list\n",
    "print(min(nums))   # the minimum value within the list"
   ]
  },
  {
   "cell_type": "markdown",
   "metadata": {},
   "source": [
    "A list is an example of a **mutable** object - an object whose values can be changed.\n",
    "\n",
    "A tuple is the **immutable** counterpart of the list. It has similar functionality and uses but the items within it can't be changed. Declaring a tuple is similar to a list but instead of square brackets, you have to use normal parenthesis."
   ]
  },
  {
   "cell_type": "code",
   "execution_count": null,
   "metadata": {},
   "outputs": [],
   "source": [
    "fruits = (\"apple\", \"orange\", \"tomato\", \"banana\")  # now the tomato is a fruit forever\n",
    "print(type(fruits))\n",
    "print(fruits)"
   ]
  },
  {
   "cell_type": "markdown",
   "metadata": {},
   "source": [
    "What will happen if we try to change one of the items?"
   ]
  },
  {
   "cell_type": "code",
   "execution_count": null,
   "metadata": {},
   "outputs": [],
   "source": [
    "fruits[2] = \"avocado\""
   ]
  },
  {
   "cell_type": "markdown",
   "metadata": {},
   "source": [
    "### Exercise\n",
    "The variable `increments` contains the numbers 0 to 99. Use list slicing to access the numbers from 50 to 75"
   ]
  },
  {
   "cell_type": "code",
   "execution_count": null,
   "metadata": {},
   "outputs": [],
   "source": [
    "increments = list(range(0, 100))\n"
   ]
  },
  {
   "cell_type": "markdown",
   "metadata": {},
   "source": [
    "## Dictionaries\n",
    "As implied by the name, dictionaries are similar to actual dictionaries. They are similar to lists but instead of accessing values via their index, you access them via their key. For example, the Gaelic word *Halò*(Hello in English) and *Hello* will be our key. In that case, we can access the dictionary with:\n",
    "\n",
    "`dict[\"Hello\"]` and it will return `\"Halò\"`.\n",
    "\n",
    "Here is an image to illustrate the same principle with the days of the week.\n",
    "\n",
    "&nbsp;\n",
    "\n",
    "![Dictionary](https://gdurl.com/oonO)\n",
    "\n",
    "&nbsp;\n",
    "\n",
    "In dictionaries, the values are mutable but the keys are immutable. A value can't exist without a key. Definition of a dictionary has the following structure:\n",
    "\n",
    "```python\n",
    "dict = { key1 : val1,\n",
    "        key2 : val2,\n",
    "        key3: val3}\n",
    "```\n",
    "\n",
    "Now we can define the dictionary from the image above:"
   ]
  },
  {
   "cell_type": "code",
   "execution_count": null,
   "metadata": {},
   "outputs": [],
   "source": [
    "days = {\"Monday\": \"Diluain\", \"Tuesday\": \"Dimàirt\",\n",
    "        \"Wednesday\": \"Diciadain\", \"Thursday\": \"Diardaoin\",\n",
    "        \"Friday\": \"Dihaoine\"}\n",
    "print(type(days))\n",
    "print(days)"
   ]
  },
  {
   "cell_type": "markdown",
   "metadata": {},
   "source": [
    "As mentioned previously, to access a value in a dictionary we need to input its key:"
   ]
  },
  {
   "cell_type": "code",
   "execution_count": null,
   "metadata": {},
   "outputs": [],
   "source": [
    "days[\"Friday\"]"
   ]
  },
  {
   "cell_type": "markdown",
   "metadata": {},
   "source": [
    "Just like lists, we can modify, add and remove different items in the dictionary."
   ]
  },
  {
   "cell_type": "code",
   "execution_count": null,
   "metadata": {},
   "outputs": [],
   "source": [
    "days.update({\"Saturday\": \"Disathairne\"})\n",
    "print(days)\n",
    "days.pop(\"Monday\")  # Remove Monday because nobody likes it\n",
    "print(days)"
   ]
  },
  {
   "cell_type": "markdown",
   "metadata": {},
   "source": [
    "If needed we can extract only the keys or only the values out of the dictionary."
   ]
  },
  {
   "cell_type": "code",
   "execution_count": null,
   "metadata": {},
   "outputs": [],
   "source": [
    "print(days.keys())   # get only the keys of the dictionary\n",
    "print(days.values()) # get only the values of the dictionary"
   ]
  },
  {
   "cell_type": "markdown",
   "metadata": {},
   "source": [
    "### Exercise\n",
    "The dictionary `months` below maps numbers to the names of months. But it is from an experimental [13-month calendar](https://en.wikipedia.org/wiki/International_Fixed_Calendar)! Correct the dictionary by\n",
    "- printing `months.keys()` and `months.values()` to identify the difference with the normal calendar.\n",
    "- using `months.pop()`, and `months.update()`, to edit the dictionary so it matches up with the normal calendar."
   ]
  },
  {
   "cell_type": "code",
   "execution_count": null,
   "metadata": {},
   "outputs": [],
   "source": [
    "months = {1: \"Jan\", \n",
    "          2: \"Feb\", \n",
    "          3:\"Mar\", \n",
    "          4: \"Apr\", \n",
    "          5:\"May\", \n",
    "          6:\"Jun\", \n",
    "          7:\"Sol\", \n",
    "          8:\"Jul\", \n",
    "          9:\"Aug\", \n",
    "          10:\"Sep\", \n",
    "          11:\"Oct\", \n",
    "          12:\"Nov\", \n",
    "          13:\"Dec\"}\n",
    "\n",
    "#Investigate/change the calendar!\n"
   ]
  },
  {
   "cell_type": "markdown",
   "metadata": {},
   "source": [
    "## Sets\n",
    "- Lists can contain duplicate items, in contrast, a set contains no duplicates.\n",
    "- Sets are mutable and have similar functionality to a list\n",
    "- Can't be indexed or sliced similar to lists\n",
    "- Can be created directly from lists using the `set()` function.\n",
    "- Alternatively, we can also create them with curly brackets `{}`"
   ]
  },
  {
   "cell_type": "code",
   "execution_count": null,
   "metadata": {},
   "outputs": [],
   "source": [
    "x = set([1, 2, 3])  # a set created from a list\n",
    "print(type(x))\n",
    "\n",
    "x"
   ]
  },
  {
   "cell_type": "code",
   "execution_count": null,
   "metadata": {},
   "outputs": [],
   "source": [
    "y = {3, 2, 1}       # a set created directly\n",
    "\n",
    "x == y              # x and y are the same object"
   ]
  },
  {
   "cell_type": "markdown",
   "metadata": {},
   "source": [
    "### Exercise\n",
    "Use the no-duplicate policy of sets to get all the _distinct_ values in the list `x`, without repetition."
   ]
  },
  {
   "cell_type": "code",
   "execution_count": null,
   "metadata": {},
   "outputs": [],
   "source": [
    "x = [11, 15, 19, 9, 11, 18, 10, 16, 14, 9, 15, 0, 1, 1, 12, 11, 14, 11, 10, 14]\n",
    "\n"
   ]
  },
  {
   "cell_type": "markdown",
   "metadata": {},
   "source": [
    "# Flow Control"
   ]
  },
  {
   "cell_type": "markdown",
   "metadata": {},
   "source": [
    "# If Else\n",
    "Sometimes when you try to close a program it asks you `Do you really want to close me?` with possible answers `Yes` and `No`. That is an if-else statement which a structure similar to:\n",
    "\n",
    "```python\n",
    "if answer:\n",
    "    close program\n",
    "else:\n",
    "    continue running program\n",
    "```\n",
    "\n",
    "Matter of fact, most of computing relies on this simple concept. To explain it in more details: the statement after `if` must evaluate to a Boolean value (`True` or `False`), if it is `True` then we execute the code between the `if` and `else` statements and skip the code after the `else` statement. If the Boolean expression after `if` evaluates to `False` then we skip the code between `if` and `else` and execute only the code after `else`."
   ]
  },
  {
   "cell_type": "code",
   "execution_count": null,
   "metadata": {},
   "outputs": [],
   "source": [
    "x = True\n",
    "if x:\n",
    "    print(\"Executing if\")\n",
    "else:\n",
    "    print(\"Executing else\")\n",
    "print(\"Prints regardless of the outcome of the if-else block\")"
   ]
  },
  {
   "cell_type": "markdown",
   "metadata": {},
   "source": [
    "Try changing the value of x to `False`.\n",
    "\n",
    "Notice how the final print statement is always executing? That is because it is outside of the if-else block. Python groups code together based on its indentation - the whitespace characters before the code. All lines of code which are next to each other and have the same indentation are part of the same execution block. You can try adding more print statements to the if-else code above and see the results. \n",
    "\n",
    "Note: Within Jupyter, indentation is 4 whitespaces long. When indenting it is recommended to use the `Tab` key which will simply insert 4 whitespaces.\n",
    "\n",
    "Another thing you might have noticed in the if-else statement above is the `:` character. In Python, it signals the interpreter that you are starting a code block. After you use it, it will expect a new indented block.\n",
    "\n",
    "## elif\n",
    "\n",
    "if-else statements can also be extended with `elif` which as implied combines both else + if = elif. This is useful if you want to have multiple conditions for example:\n",
    "\n",
    "```python\n",
    "if condition1:\n",
    "    condition1 was True\n",
    "elif condition2:\n",
    "    condition2 was True and condition1 was False\n",
    "else:\n",
    "    neither condition1 or condition2 were True\n",
    "```\n",
    "\n",
    "Let us illustrate this in an example. Fill in the value of `age` in the below code block, and it will use `if`, `else` and `elif` to compute whether someone of this age is:\n",
    "- Too young to work full time (under 16)\n",
    "- Of full time working age (16 - 67)\n",
    "- Of state pension age (over 65)\n",
    "\n",
    "Since any age must fall into one of these three distinct brackets, `elif` is the perfect way to separate out the different age groups."
   ]
  },
  {
   "cell_type": "code",
   "execution_count": null,
   "metadata": {},
   "outputs": [],
   "source": [
    "age = 15\n",
    "\n",
    "if age < 16:\n",
    "    print(\"Someone of age\", age, \"is too young to work full-time.\")\n",
    "elif age <= 65:\n",
    "    print(\"Someone of age\", age, \"is of full-time working age.\")\n",
    "else:\n",
    "    print(\"Someone of age\", age, \"is able to draw a state pension.\")"
   ]
  },
  {
   "cell_type": "markdown",
   "metadata": {},
   "source": [
    "### Exercise\n",
    "Below, a random integer `n` within the range 0 to 9 is generated."
   ]
  },
  {
   "cell_type": "code",
   "execution_count": null,
   "metadata": {},
   "outputs": [],
   "source": [
    "import random\n",
    "n = random.randint(0, 10)"
   ]
  },
  {
   "cell_type": "markdown",
   "metadata": {},
   "source": [
    "Fill in a value `guess` for the number `n`. Then in the next code block, use `if`, `else` and `elif` to test whether your guess was equal to `n`, or too high, or too low, and print out an appropriate message."
   ]
  },
  {
   "cell_type": "code",
   "execution_count": null,
   "metadata": {},
   "outputs": [],
   "source": [
    "guess = # Fill in a guess"
   ]
  },
  {
   "cell_type": "code",
   "execution_count": null,
   "metadata": {},
   "outputs": [],
   "source": [
    "# [ Write code to test if your guess is correct, too high, or too low ]\n"
   ]
  },
  {
   "cell_type": "markdown",
   "metadata": {},
   "source": [
    "# Loops\n",
    "So far we have seen lists but are they really useful in comparison to normal variables? By themselves no, but if combined with loops like `for` and `while` lists become one of the most valuable concepts in programming!\n",
    "\n",
    "## for\n",
    "Generally useful whenever you want to iterate over a list (or other data structure) of items and apply the same operation to all items within it. In general, `for` loops look like this and have indentation just like if-else statements:\n",
    "\n",
    "```python\n",
    "for item in itemList:\n",
    "    do something to item\n",
    "```\n",
    "\n",
    "For example:"
   ]
  },
  {
   "cell_type": "code",
   "execution_count": null,
   "metadata": {},
   "outputs": [],
   "source": [
    "fruits = [\"apple\", \"orange\", \"tomato\", \"banana\"]\n",
    "for f in fruits:\n",
    "    print(\"The fruit\", f, \"has index\", fruits.index(f))"
   ]
  },
  {
   "cell_type": "markdown",
   "metadata": {},
   "source": [
    "is much more elegant than writing"
   ]
  },
  {
   "cell_type": "code",
   "execution_count": null,
   "metadata": {},
   "outputs": [],
   "source": [
    "fruits = [\"apple\", \"orange\", \"tomato\", \"banana\"]\n",
    "print(\"The fruit\", fruits[0], \"has index\", fruits.index(fruits[0]))\n",
    "print(\"The fruit\", fruits[1], \"has index\", fruits.index(fruits[1]))\n",
    "print(\"The fruit\", fruits[2], \"has index\", fruits.index(fruits[2]))\n",
    "print(\"The fruit\", fruits[3], \"has index\", fruits.index(fruits[3]))"
   ]
  },
  {
   "cell_type": "markdown",
   "metadata": {},
   "source": [
    "That can be really powerful!\n",
    "Let us try to find the squared value of numbers 0 to 10."
   ]
  },
  {
   "cell_type": "code",
   "execution_count": null,
   "metadata": {},
   "outputs": [],
   "source": [
    "numbers = list(range(10))\n",
    "for num in numbers:\n",
    "    squared = num ** 2\n",
    "    print(num, \"squared is\", squared)"
   ]
  },
  {
   "cell_type": "markdown",
   "metadata": {},
   "source": [
    "### Exercise\n",
    "Below is a list of names. Use a `for` loop to count the number of times the name Jessica appears in the list. You should get the answer 3."
   ]
  },
  {
   "cell_type": "code",
   "execution_count": null,
   "metadata": {},
   "outputs": [],
   "source": [
    "names = [\"Jack\", \"James\", \"Jessica\", \"Jacob\", \"Joshua\", \n",
    "         \"Jaxon\", \"Jack\", \"Jamie\", \"Jude\", \"Jessica\", \n",
    "         \"Jackson\", \"James\", \"Jack\", \"Joseph\", \"Julia\", \n",
    "         \"Joshua\", \"John\", \"Josh\", \"Jack\", \"Jacob\", \n",
    "         \"Jake\", \"Jessica\", \"James\", \"Jayden\", \"Jax\"]\n",
    "\n",
    "#Complete this code\n"
   ]
  },
  {
   "cell_type": "markdown",
   "metadata": {},
   "source": [
    "## while\n",
    "Another useful loop which is a bit less controllable. It executes over and over until its condition becomes false. For example, we can make a loop that executes 5 times and then stops."
   ]
  },
  {
   "cell_type": "code",
   "execution_count": null,
   "metadata": {},
   "outputs": [],
   "source": [
    "n = 0\n",
    "while n < 5:\n",
    "    print(\"Executing while loop\")\n",
    "    n = n + 1\n",
    "\n",
    "print(\"Finished while loop\")"
   ]
  },
  {
   "cell_type": "markdown",
   "metadata": {},
   "source": [
    "## break\n",
    "Not a loop but extremely useful within loops! As implied `break` literally breaks the loop and forces the program to go out of it. We can redo our `while` loop example using `break`."
   ]
  },
  {
   "cell_type": "code",
   "execution_count": null,
   "metadata": {},
   "outputs": [],
   "source": [
    "n = 0\n",
    "while True:  # execute indefinitely\n",
    "    print(\"Executing while loop\")\n",
    "    \n",
    "    if n == 5:  # stop loop if n is 5\n",
    "        break\n",
    "    \n",
    "    n = n + 1\n",
    "\n",
    "print(\"Finished while loop\")"
   ]
  },
  {
   "cell_type": "markdown",
   "metadata": {},
   "source": [
    "### Exercise\n",
    "In the code cell below, type in a value for `n` which is an integer between 0 and 9. Then in the next code block, use a `while` loop and the function `random.randint(0, 10)` to repeatedly generate random numbers between 0 and 9, until you generate `n`. Keep a count of how many tries it takes and print this number at the end."
   ]
  },
  {
   "cell_type": "code",
   "execution_count": null,
   "metadata": {},
   "outputs": [],
   "source": [
    "n = #Your value of n"
   ]
  },
  {
   "cell_type": "code",
   "execution_count": null,
   "metadata": {},
   "outputs": [],
   "source": [
    "# [ Write code to keep generating random numbers until you generate n. ]\n"
   ]
  },
  {
   "cell_type": "markdown",
   "metadata": {},
   "source": [
    "# Functions\n",
    "Also referred to as methods, functions are effectively small programs that take in arguments(ie. inputs) and return values(outputs). A function we have been using extensively until now is `print`. As obvious it takes various types of arguments and prints them to the console. It and all other functions share the same structure:\n",
    "\n",
    "```python\n",
    "def functionName(argument1, argument2, argument3, ... argumentN):\n",
    "    statments..\n",
    "    ..\n",
    "    ..\n",
    "    \n",
    "    return returnValue\n",
    "```\n",
    "\n",
    "Functions are an incredibly useful concept since they allow us to package functionality in a convenient and easy to read manner and reproduce the same result without having to write it again and again. A quick example:"
   ]
  },
  {
   "cell_type": "code",
   "execution_count": null,
   "metadata": {},
   "outputs": [],
   "source": [
    "def printNum(num):\n",
    "    print(\"My favourite number is\", num)\n",
    "    \n",
    "printNum(7)\n",
    "printNum(14)\n",
    "printNum(2)"
   ]
  },
  {
   "cell_type": "markdown",
   "metadata": {},
   "source": [
    "Rule of thumb - if you are planning on using very similar code more than once, it may be wortwhile writing it as a reusable function. \n",
    "\n",
    "Can we make a more useful function that returns values(outputs)? We can do that using `return`. When we use `return`, it immedately outputs the value after it and terminates the program. Can we make a program that rounds a number?"
   ]
  },
  {
   "cell_type": "code",
   "execution_count": null,
   "metadata": {},
   "outputs": [],
   "source": [
    "x = 3.4\n",
    "remainder = x % 1\n",
    "if remainder < 0.5:\n",
    "    print(\"Number rounded down\")\n",
    "    x = x - remainder\n",
    "else:\n",
    "    print(\"Number rounded up\")\n",
    "    x = x + (1 - remainder)\n",
    "\n",
    "print(\"Final answer is\", x)"
   ]
  },
  {
   "cell_type": "markdown",
   "metadata": {},
   "source": [
    "That works but it will be tedious do have to write it all the time we need to round a number. Can we convert that to a function?"
   ]
  },
  {
   "cell_type": "code",
   "execution_count": null,
   "metadata": {
    "scrolled": true
   },
   "outputs": [],
   "source": [
    "def roundNum(num):\n",
    "    remainder = num % 1\n",
    "    if remainder < 0.5:\n",
    "        return num - remainder\n",
    "    else:\n",
    "        return num + (1 - remainder)\n",
    "\n",
    "# Will it work?\n",
    "x = roundNum(3.4)\n",
    "print (x)\n",
    "\n",
    "y = roundNum(7.7)\n",
    "print(y)\n",
    "\n",
    "z = roundNum(9.2)\n",
    "print(z)"
   ]
  },
  {
   "cell_type": "markdown",
   "metadata": {},
   "source": [
    "That is a very powerful idea!\n",
    "\n",
    "*Note: that this such trivial functionality is already built into Python as the function `round()`.*\n",
    "\n",
    "We can also make a function that returns a tuple of often needed parameters of a list."
   ]
  },
  {
   "cell_type": "code",
   "execution_count": null,
   "metadata": {},
   "outputs": [],
   "source": [
    "def listFunc(my_list):\n",
    "    maximum = max(my_list)\n",
    "    minimum = min(my_list)\n",
    "    first = my_list[0]\n",
    "    last = my_list[-1]\n",
    "    return maximum, minimum, first, last"
   ]
  },
  {
   "cell_type": "code",
   "execution_count": null,
   "metadata": {},
   "outputs": [],
   "source": [
    "l = [24, 12, 68, 40, 120, 96]\n",
    "params = listFunc(l)\n",
    "print(params)\n",
    "print(\"Max value is\", params[0])\n",
    "print(\"Min value is\", params[1])\n",
    "print(\"First value is\", params[2])\n",
    "print(\"Last value is\", params[3])"
   ]
  },
  {
   "cell_type": "markdown",
   "metadata": {},
   "source": [
    "### Exercise\n",
    "Write a function called `mean` that accepts a list of numbers and returns the mean of the list.\n",
    "\n",
    "_(Hint: you can use a `for` loop to add up the numbers in a list, or use the function `sum()`)_"
   ]
  },
  {
   "cell_type": "code",
   "execution_count": null,
   "metadata": {},
   "outputs": [],
   "source": []
  },
  {
   "cell_type": "markdown",
   "metadata": {},
   "source": [
    "You can check your function using the following code."
   ]
  },
  {
   "cell_type": "code",
   "execution_count": null,
   "metadata": {},
   "outputs": [],
   "source": [
    "################ Checking code ########################\n",
    "# Please don't edit\n",
    "x = [1, 58, 7, 43, 25, 2, 66, 17]\n",
    "if mean(x) == 27.375:\n",
    "    print (\"Answer is correct. Good job!\")\n",
    "else:\n",
    "    print(\"Wrong answer, please try again.\")"
   ]
  },
  {
   "cell_type": "markdown",
   "metadata": {},
   "source": [
    "# Exercises\n",
    "## 1. Divisors\n",
    "Fill in `x` below with an integer. Then create a program that finds a list of all the divisors of `x`.\n",
    "\n",
    "*A divisor is a number that divides evenly into another number. For example, 13 is a divisor of 26 because 26 / 13 has no remainder.)*\n",
    "\n",
    "*Hint: You might find `range()` useful here and remember that it can accept a variable as an argument*"
   ]
  },
  {
   "cell_type": "code",
   "execution_count": null,
   "metadata": {},
   "outputs": [],
   "source": [
    "x = # Fill in a number here\n",
    "\n",
    "# store all possible divisors in a variable below\n",
    "divisors = \n",
    "\n",
    "print(divisors)"
   ]
  },
  {
   "cell_type": "markdown",
   "metadata": {},
   "source": [
    "## 2. Sort and cube\n",
    "Given the list `numList`:\n",
    "1. Copy it to `newList`.\n",
    "2. Arrange all of the values in `newList` ascending order (Hint: using the built-in function of lists).\n",
    "3. Cube all numbers within the list using a `for` loop. (Think about how you will store the values back to the list).\n",
    "HINT: Make sure you change the value of `newList` whenever you are iterating over it in the `for` loop. Notice how the sorted sequence of numbers in `numList` is very similar to the indexes of a list."
   ]
  },
  {
   "cell_type": "code",
   "execution_count": null,
   "metadata": {},
   "outputs": [],
   "source": [
    "numList = [5, 7, 2, 1, 3, 6, 4]\n",
    "# Please store the new values in newList below\n",
    "newList = "
   ]
  },
  {
   "cell_type": "markdown",
   "metadata": {},
   "source": [
    "Run the block below to check your answer."
   ]
  },
  {
   "cell_type": "code",
   "execution_count": null,
   "metadata": {},
   "outputs": [],
   "source": [
    "################ Checking code ########################\n",
    "# Please don't edit\n",
    "if newList == [1, 8, 27, 64, 125, 216, 343]:\n",
    "    print (\"Answer is correct. Good job!\")\n",
    "else:\n",
    "    print(\"Wrong answer, please try again.\")"
   ]
  },
  {
   "cell_type": "markdown",
   "metadata": {},
   "source": [
    "## 3. sortAndCube()\n",
    "Now do the same thing as exercise 2 but as a function.\n",
    "Remember that you have to return a value! \n",
    "\n",
    "Hint: `print()` and `type()` would be helpful in fixing issues with your code."
   ]
  },
  {
   "cell_type": "code",
   "execution_count": null,
   "metadata": {},
   "outputs": [],
   "source": [
    "def sortAndCube(numList):\n",
    "    #Complete this function.\n",
    "    "
   ]
  },
  {
   "cell_type": "markdown",
   "metadata": {},
   "source": [
    "Run the block below to check your answer."
   ]
  },
  {
   "cell_type": "code",
   "execution_count": null,
   "metadata": {},
   "outputs": [],
   "source": [
    "################ Checking code ########################\n",
    "# Please don't edit\n",
    "x = [5, 7, 2, 1, 3, 6, 4]\n",
    "if sortAndCube(x) == [1, 8, 27, 64, 125, 216, 343]:\n",
    "    print(x)\n",
    "    print (\"Answer is correct. Good job!\")\n",
    "else:\n",
    "    print(\"Wrong answer, please try again.\")"
   ]
  }
 ],
 "metadata": {
  "kernelspec": {
   "display_name": "Python 3 (ipykernel)",
   "language": "python",
   "name": "python3"
  },
  "language_info": {
   "codemirror_mode": {
    "name": "ipython",
    "version": 3
   },
   "file_extension": ".py",
   "mimetype": "text/x-python",
   "name": "python",
   "nbconvert_exporter": "python",
   "pygments_lexer": "ipython3",
   "version": "3.9.7"
  }
 },
 "nbformat": 4,
 "nbformat_minor": 4
}
